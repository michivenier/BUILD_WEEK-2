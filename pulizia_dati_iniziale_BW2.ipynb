{
 "cells": [
  {
   "cell_type": "code",
   "execution_count": 30,
   "id": "9c11ecb3-73f1-4de5-a3f2-12232dfebdb2",
   "metadata": {
    "tags": []
   },
   "outputs": [],
   "source": []
  },
  {
   "cell_type": "code",
   "execution_count": 34,
   "id": "4c0f5040-ab5c-430b-94fd-04f35b5802a0",
   "metadata": {
    "tags": []
   },
   "outputs": [
    {
     "name": "stdout",
     "output_type": "stream",
     "text": [
      "comuni ['Piemonte' '' \" Valle d'Aosta \" 'Lombardia'\n",
      " 'Trentino-Alto Adige/Sudtirol' 'Veneto' 'Friuli-Venezia Giulia' 'Liguria'\n",
      " 'Emilia-Romagna' 'Toscana' 'Umbria' 'Marche' 'Lazio' 'Abruzzo' 'Molise'\n",
      " 'Campania' 'Puglia' 'Basilicata' 'Calabria' 'Sicilia' 'Sardegna']      Denominazione Unnamed: 1   Regione Sigla automobilistica Popolazione2011\n",
      "161      Nichelino             Piemonte                    TO           47851\n",
      "162         Noasca             Piemonte                    TO             169\n",
      "163           Nole             Piemonte                    TO            6910\n",
      "164       Nomaglio             Piemonte                    TO             312\n",
      "165           None             Piemonte                    TO            7998\n",
      "166       Novalesa             Piemonte                    TO             560\n",
      "167      Oglianico             Piemonte                    TO            1426\n",
      "168      Orbassano             Piemonte                    TO           22537\n",
      "169  Orio Canavese             Piemonte                    TO             829 \n",
      " \n",
      " \n",
      " province    SNo                 Date Country  RegionCode RegionName  ProvinceCode  \\\n",
      "0    0  2020-02-24 18:00:00     ITA          13    Abruzzo            66   \n",
      "1    1  2020-02-24 18:00:00     ITA          13    Abruzzo            67   \n",
      "\n",
      "  ProvinceName ProvinceAbbreviation   Latitude  Longitude  TotalPositiveCases  \n",
      "0     L'Aquila                   AQ  42.351222  13.398438                   0  \n",
      "1       Teramo                   TE  42.658918  13.704400                   0   \n",
      " \n",
      " \n",
      " regioni    SNo                 Date Country  RegionCode  RegionName   Latitude  \\\n",
      "0    0  2020-02-24 18:00:00     ITA          13     Abruzzo  42.351222   \n",
      "1    1  2020-02-24 18:00:00     ITA          17  Basilicata  40.639471   \n",
      "\n",
      "   Longitude  HospitalizedPatients  IntensiveCarePatients  \\\n",
      "0  13.398438                     0                      0   \n",
      "1  15.805148                     0                      0   \n",
      "\n",
      "   TotalHospitalizedPatients  HomeConfinement  CurrentPositiveCases  \\\n",
      "0                          0                0                     0   \n",
      "1                          0                0                     0   \n",
      "\n",
      "   NewPositiveCases  Recovered  Deaths  TotalPositiveCases  TestsPerformed  \n",
      "0                 0          0       0                   0             NaN  \n",
      "1                 0          0       0                   0             NaN   \n",
      " \n",
      " \n",
      " ripartizioni    Codice Regione Ripartizione geografica        Regione\n",
      "0               1              Nord-ovest       Piemonte\n",
      "1               2              Nord-ovest  Valle d'Aosta\n"
     ]
    }
   ],
   "source": [
    "#importo le librerie necessarie\n",
    "\n",
    "import numpy as np\n",
    "import pandas as pd\n",
    "\n",
    "#OPERAZIONE DI PULIZIA DEI DATASET (UNA TANTUM):\n",
    "#importazione dei file csv forniti e pulizia per formattare i nomi delle regioni in modo uniformato\n",
    "\n",
    "comuni_python = pd.read_csv(\"/Users/michelavenier/Desktop/EPICODE/BUILD_WEEK_2/Materiali_puliti/Comuni_python.csv\", na_filter=False)\n",
    "comuni_python['Regione'] = comuni_python['Regione'].str.lower().str.capitalize()\n",
    "comuni_clean=comuni_python.dropna(axis=1, how='all').drop_duplicates().dropna(how='all').drop(comuni_python.index[7919])\n",
    "comuni_clean.to_csv('comuni_clean.csv')\n",
    "\n",
    "province_python = pd.read_csv(\"/Users/michelavenier/Desktop/EPICODE/BUILD_WEEK_2/Materiali_puliti/covid19_italy_province_python.csv\")\n",
    "province_clean = province_python.dropna(how='all').drop_duplicates()\n",
    "province_clean['Date'] = pd.to_datetime(province_clean['Date'])\n",
    "province_clean.to_csv('province_clean.csv')\n",
    "\n",
    "regioni_python = pd.read_csv(\"/Users/michelavenier/Desktop/EPICODE/BUILD_WEEK_2/Materiali_puliti/covid19_italy_region_python.csv\")\n",
    "regioni_clean = regioni_python.dropna(how='all').drop_duplicates()\n",
    "regioni_clean['Date'] = pd.to_datetime(regioni_clean['Date'])\n",
    "regioni_clean.to_csv('regioni_clean.csv')\n",
    "\n",
    "ripartizione_geografica_python = pd.read_csv(\"/Users/michelavenier/Desktop/EPICODE/BUILD_WEEK_2/Materiali_puliti/Ripartizione_geografica_python.csv\", sep=\";\")\n",
    "ripartizioni_clean = ripartizione_geografica_python.dropna(how='all').drop_duplicates()\n",
    "ripartizioni_clean.to_csv('ripartizioni_clean.csv')\n",
    "\n",
    "\n",
    "# leggo e uso questi file puliti appena prodotti\n",
    "comuni_clean = pd.read_csv(\"/Users/michelavenier/Desktop/EPICODE/BUILD_WEEK_2/comuni_clean.csv\", na_filter=False)\n",
    "comuni_clean=comuni_clean.drop('Unnamed: 0', axis=1)\n",
    "\n",
    "province_clean = pd.read_csv(\"/Users/michelavenier/Desktop/EPICODE/BUILD_WEEK_2/Materiali_puliti/province_clean.csv\")\n",
    "province_clean=province_clean.drop('Unnamed: 0', axis=1)\n",
    "\n",
    "regioni_clean = pd.read_csv(\"/Users/michelavenier/Desktop/EPICODE/BUILD_WEEK_2/Materiali_puliti/regioni_clean.csv\")\n",
    "regioni_clean=regioni_clean.drop('Unnamed: 0', axis=1)\n",
    "\n",
    "ripartizioni_clean = pd.read_csv(\"/Users/michelavenier/Desktop/EPICODE/BUILD_WEEK_2/Materiali_puliti/ripartizioni_clean.csv\")\n",
    "ripartizioni_clean=ripartizioni_clean.drop('Unnamed: 0', axis=1)\n",
    "\n",
    "print(\"comuni\",comuni_clean['Regione'].unique(), comuni_clean.iloc[161:170,:],\"\\n\",\"\\n\",\"\\n\", \"province\", province_clean.head(2), \"\\n\",\"\\n\",\"\\n\", \"regioni\", regioni_clean.head(2), \"\\n\",\"\\n\",\"\\n\", \"ripartizioni\", ripartizioni_clean.head(2))\n"
   ]
  }
 ],
 "metadata": {
  "kernelspec": {
   "display_name": "Python 3 (ipykernel)",
   "language": "python",
   "name": "python3"
  },
  "language_info": {
   "codemirror_mode": {
    "name": "ipython",
    "version": 3
   },
   "file_extension": ".py",
   "mimetype": "text/x-python",
   "name": "python",
   "nbconvert_exporter": "python",
   "pygments_lexer": "ipython3",
   "version": "3.11.5"
  }
 },
 "nbformat": 4,
 "nbformat_minor": 5
}
